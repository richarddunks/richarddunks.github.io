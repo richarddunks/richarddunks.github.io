{
 "metadata": {
  "name": "",
  "signature": "sha256:3dcd6bb04b10fd44d32593c1e0a2db0a5c8914fa9dfd4991b03d5b3db89d4887"
 },
 "nbformat": 3,
 "nbformat_minor": 0,
 "worksheets": [
  {
   "cells": [
    {
     "cell_type": "code",
     "collapsed": false,
     "input": [
      "inputFile = open('world-country-centroids_tr.csv','r')\n",
      "header = next(inputFile)"
     ],
     "language": "python",
     "metadata": {},
     "outputs": [],
     "prompt_number": 30
    },
    {
     "cell_type": "code",
     "collapsed": false,
     "input": [
      "outputFile = open('world-country-centroids.json','w')\n",
      "outputFile.write('{\"type\":\"FeatureCollection\",\"features\":[\\n')"
     ],
     "language": "python",
     "metadata": {},
     "outputs": [],
     "prompt_number": 31
    },
    {
     "cell_type": "code",
     "collapsed": false,
     "input": [
      "for line in inputFile:\n",
      "    line = line.rstrip().split(\",\")\n",
      "    outputFile.write('{\"type\":\"Feature\",\"geometry\":{\"type\":\"Point\",\"coordinates\":[' + line[2] + \",\" + line[3] + ']},\"properties\":{\"name\":\"' + line[1] + '\",\"region\":\"' + line[4] + '\",\"subregion\":\"' + line[5] + '\"}},\\n')\n",
      "outputFile.write(']}')\n",
      "outputFile.close()\n",
      "inputFile.close()"
     ],
     "language": "python",
     "metadata": {},
     "outputs": [],
     "prompt_number": 32
    },
    {
     "cell_type": "code",
     "collapsed": false,
     "input": [],
     "language": "python",
     "metadata": {},
     "outputs": []
    },
    {
     "cell_type": "code",
     "collapsed": false,
     "input": [
      "header"
     ],
     "language": "python",
     "metadata": {},
     "outputs": [
      {
       "metadata": {},
       "output_type": "pyout",
       "prompt_number": 23,
       "text": [
        "'Code,Name,Lat,Lon,region,subregion\\n'"
       ]
      }
     ],
     "prompt_number": 23
    }
   ],
   "metadata": {}
  }
 ]
}